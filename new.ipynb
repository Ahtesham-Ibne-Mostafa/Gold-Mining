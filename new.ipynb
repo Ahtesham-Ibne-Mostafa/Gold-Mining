{
 "cells": [
  {
   "cell_type": "code",
   "execution_count": 1,
   "id": "19c5732e",
   "metadata": {},
   "outputs": [],
   "source": [
    "import pandas as pd\n",
    "import numpy as np"
   ]
  },
  {
   "cell_type": "code",
   "execution_count": 2,
   "id": "c3d95786",
   "metadata": {},
   "outputs": [],
   "source": [
    "data=pd.read_csv('EEG_HMC_underscore.csv')"
   ]
  },
  {
   "cell_type": "code",
   "execution_count": null,
   "id": "b1d2d276",
   "metadata": {},
   "outputs": [],
   "source": [
    "data.head(10)"
   ]
  },
  {
   "cell_type": "code",
   "execution_count": null,
   "id": "2e25e065",
   "metadata": {},
   "outputs": [],
   "source": [
    "data.describe()"
   ]
  },
  {
   "cell_type": "code",
   "execution_count": null,
   "id": "970ea545",
   "metadata": {
    "scrolled": true
   },
   "outputs": [],
   "source": [
    "data.info()"
   ]
  },
  {
   "cell_type": "markdown",
   "id": "c79a85e9",
   "metadata": {},
   "source": [
    "## Approach 1 : Dropping missing values column wise"
   ]
  },
  {
   "cell_type": "code",
   "execution_count": 7,
   "id": "9d551e03",
   "metadata": {},
   "outputs": [],
   "source": [
    "a = data.dropna(axis = 1)"
   ]
  },
  {
   "cell_type": "code",
   "execution_count": null,
   "id": "55e008c4",
   "metadata": {},
   "outputs": [],
   "source": [
    "a.head()"
   ]
  },
  {
   "cell_type": "code",
   "execution_count": null,
   "id": "968cc4f0",
   "metadata": {},
   "outputs": [],
   "source": [
    "a.info()"
   ]
  },
  {
   "cell_type": "markdown",
   "id": "ac37ad8a",
   "metadata": {},
   "source": [
    "## Dropping null values row waise"
   ]
  },
  {
   "cell_type": "code",
   "execution_count": 12,
   "id": "f4ebe2f9",
   "metadata": {},
   "outputs": [],
   "source": [
    "b=data.dropna(axis =0)"
   ]
  },
  {
   "cell_type": "code",
   "execution_count": null,
   "id": "fe3bb648",
   "metadata": {},
   "outputs": [],
   "source": [
    "b.info()"
   ]
  },
  {
   "cell_type": "markdown",
   "id": "9cfcfee3",
   "metadata": {},
   "source": [
    "## Using Fillna() Method"
   ]
  },
  {
   "cell_type": "code",
   "execution_count": 14,
   "id": "300ec6ca",
   "metadata": {},
   "outputs": [],
   "source": [
    "cols = []"
   ]
  },
  {
   "cell_type": "markdown",
   "id": "5a25dd76",
   "metadata": {},
   "source": [
    "## Using Imputer"
   ]
  },
  {
   "cell_type": "code",
   "execution_count": null,
   "id": "d7247ccc",
   "metadata": {},
   "outputs": [],
   "source": [
    "data.isnull().sum()"
   ]
  },
  {
   "cell_type": "code",
   "execution_count": null,
   "id": "79ac8fb0",
   "metadata": {},
   "outputs": [],
   "source": [
    "%%time"
   ]
  },
  {
   "cell_type": "code",
   "execution_count": null,
   "id": "824da1a8",
   "metadata": {},
   "outputs": [],
   "source": []
  }
 ],
 "metadata": {
  "kernelspec": {
   "display_name": "base",
   "language": "python",
   "name": "python3"
  },
  "language_info": {
   "codemirror_mode": {
    "name": "ipython",
    "version": 3
   },
   "file_extension": ".py",
   "mimetype": "text/x-python",
   "name": "python",
   "nbconvert_exporter": "python",
   "pygments_lexer": "ipython3",
   "version": "3.9.13"
  },
  "vscode": {
   "interpreter": {
    "hash": "36bd2576b51d6407373b9a73bf29b87f6bad19c8f371c643c9156f9f10f3f63f"
   }
  }
 },
 "nbformat": 4,
 "nbformat_minor": 5
}
