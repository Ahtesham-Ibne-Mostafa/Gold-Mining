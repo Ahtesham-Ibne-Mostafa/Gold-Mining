{
 "cells": [
  {
   "cell_type": "code",
   "execution_count": 9,
   "metadata": {},
   "outputs": [],
   "source": [
    "def check(new_index):\n",
    "    for i in range(new_index,new_index+15):                       \n",
    "                        if new_index<=i<=new_index+4 :\n",
    "                            x=round((float(index[i-11])/float(index[i-26])),5)\n",
    "                            talika.append(x)\n",
    "                        elif new_index+5<=i<=new_index+9:\n",
    "                            x=round((float(index[i-11])/float(index[i-16])),5)\n",
    "                            talika.append(x)\n",
    "                        elif new_index+10<=i<=new_index+14:\n",
    "                            x=round(((float(index[i-11])+float(index[i-16]))/(float(index[i-26])+float(index[i-21]))),5)\n",
    "                            talika.append(str(x))"
   ]
  },
  {
   "cell_type": "code",
   "execution_count": 11,
   "metadata": {},
   "outputs": [
    {
     "ename": "TypeError",
     "evalue": "'int' object is not subscriptable",
     "output_type": "error",
     "traceback": [
      "\u001b[1;31m---------------------------------------------------------------------------\u001b[0m",
      "\u001b[1;31mTypeError\u001b[0m                                 Traceback (most recent call last)",
      "\u001b[1;32mf:\\Github\\Data Mining\\project 1.ipynb Cell 2'\u001b[0m in \u001b[0;36m<cell line: 16>\u001b[1;34m()\u001b[0m\n\u001b[0;32m     <a href='vscode-notebook-cell:/f%3A/Github/Data%20Mining/project%201.ipynb#ch0000000?line=41'>42</a>\u001b[0m \u001b[39mif\u001b[39;00m index\u001b[39m==\u001b[39m\u001b[39m26\u001b[39m :\n\u001b[0;32m     <a href='vscode-notebook-cell:/f%3A/Github/Data%20Mining/project%201.ipynb#ch0000000?line=42'>43</a>\u001b[0m     new_index\u001b[39m=\u001b[39mindex\n\u001b[1;32m---> <a href='vscode-notebook-cell:/f%3A/Github/Data%20Mining/project%201.ipynb#ch0000000?line=43'>44</a>\u001b[0m     check(new_index)\n\u001b[0;32m     <a href='vscode-notebook-cell:/f%3A/Github/Data%20Mining/project%201.ipynb#ch0000000?line=44'>45</a>\u001b[0m \u001b[39melif\u001b[39;00m index\u001b[39m==\u001b[39m\u001b[39m51\u001b[39m:\n\u001b[0;32m     <a href='vscode-notebook-cell:/f%3A/Github/Data%20Mining/project%201.ipynb#ch0000000?line=45'>46</a>\u001b[0m     new_index\u001b[39m=\u001b[39mindex\u001b[39m+\u001b[39m\u001b[39m15\u001b[39m\n",
      "\u001b[1;32mf:\\Github\\Data Mining\\project 1.ipynb Cell 2'\u001b[0m in \u001b[0;36mcheck\u001b[1;34m(new_index)\u001b[0m\n\u001b[0;32m      <a href='vscode-notebook-cell:/f%3A/Github/Data%20Mining/project%201.ipynb#ch0000000?line=4'>5</a>\u001b[0m \u001b[39mfor\u001b[39;00m i \u001b[39min\u001b[39;00m \u001b[39mrange\u001b[39m(new_index,new_index\u001b[39m+\u001b[39m\u001b[39m15\u001b[39m):                       \n\u001b[0;32m      <a href='vscode-notebook-cell:/f%3A/Github/Data%20Mining/project%201.ipynb#ch0000000?line=5'>6</a>\u001b[0m                     \u001b[39mif\u001b[39;00m new_index\u001b[39m<\u001b[39m\u001b[39m=\u001b[39mi\u001b[39m<\u001b[39m\u001b[39m=\u001b[39mnew_index\u001b[39m+\u001b[39m\u001b[39m4\u001b[39m :\n\u001b[1;32m----> <a href='vscode-notebook-cell:/f%3A/Github/Data%20Mining/project%201.ipynb#ch0000000?line=6'>7</a>\u001b[0m                         x\u001b[39m=\u001b[39m\u001b[39mround\u001b[39m((\u001b[39mfloat\u001b[39m(index[i\u001b[39m-\u001b[39;49m\u001b[39m11\u001b[39;49m])\u001b[39m/\u001b[39m\u001b[39mfloat\u001b[39m(index[i\u001b[39m-\u001b[39m\u001b[39m26\u001b[39m])),\u001b[39m5\u001b[39m)\n\u001b[0;32m      <a href='vscode-notebook-cell:/f%3A/Github/Data%20Mining/project%201.ipynb#ch0000000?line=7'>8</a>\u001b[0m                         talika\u001b[39m.\u001b[39mappend(x)\n\u001b[0;32m      <a href='vscode-notebook-cell:/f%3A/Github/Data%20Mining/project%201.ipynb#ch0000000?line=8'>9</a>\u001b[0m                     \u001b[39melif\u001b[39;00m new_index\u001b[39m+\u001b[39m\u001b[39m5\u001b[39m\u001b[39m<\u001b[39m\u001b[39m=\u001b[39mi\u001b[39m<\u001b[39m\u001b[39m=\u001b[39mnew_index\u001b[39m+\u001b[39m\u001b[39m9\u001b[39m:\n",
      "\u001b[1;31mTypeError\u001b[0m: 'int' object is not subscriptable"
     ]
    }
   ],
   "source": [
    "import csv\n",
    "import decimal\n",
    "\n",
    "def check(new_index):\n",
    "    for i in range(new_index,new_index+15):                       \n",
    "                        if new_index<=i<=new_index+4 :\n",
    "                            x=round((float(index[i-11])/float(index[i-26])),5)\n",
    "                            talika.append(x)\n",
    "                        elif new_index+5<=i<=new_index+9:\n",
    "                            x=round((float(index[i-11])/float(index[i-16])),5)\n",
    "                            talika.append(x)\n",
    "                        elif new_index+10<=i<=new_index+14:\n",
    "                            x=round(((float(index[i-11])+float(index[i-16]))/(float(index[i-26])+float(index[i-21]))),5)\n",
    "                            talika.append(str(x))\n",
    "\n",
    "with open(\"EEG_HMC_underscore.csv\", 'r') as a:\n",
    "    csv_reader=csv.reader(a)\n",
    "    \n",
    "    with open(\"new.csv\", 'w', newline='') as new_file:\n",
    "        csv_writer=csv.writer(new_file)\n",
    "        for row in csv_reader:\n",
    "            talika=[]\n",
    "            index=0\n",
    "            for colum in row:\n",
    "                index+=1\n",
    "                talika.append(colum)\n",
    "                if index==26:\n",
    "                    talika+=['MeanP_DAR_F4','MedianF_DAR_F4','MeanF_DAR_F4','Spectral Edge_DAR_F4', 'PeakF_DAR_F4','MeanP_DTR_F4','MedianF_DTR_F4','MeanF_DTR_F4','Spectral Edge_DTR_F4', 'PeakF_DTR_F4','MeanP_DTABR_F4','MedianF_DTABR_F4','MeanF_DTABR_F4','Spectral Edge_DTABR_F4', 'PeakF_DTABR_F4']\n",
    "                elif index==51:\n",
    "                    talika+=['MeanP_DAR_C4','MedianF_DAR_C4','MeanF_DAR_C4','Spectral Edge_DAR_C4', 'PeakF_DAR_C4','MeanP_DTR_C4','MedianF_DTR_C4','MeanF_DTR_C4','Spectral Edge_DTR_C4', 'PeakF_DTR_C4','MeanP_DTABR_C4','MedianF_DTABR_C4','MeanF_DTABR_C4','Spectral Edge_DTABR_C4', 'PeakF_DTABR_C4']\n",
    "                elif index==76:\n",
    "                    talika+=['MeanP_DAR_O2','MedianF_DAR_O2','MeanF_DAR_O2','Spectral Edge_DAR_O2', 'PeakF_DAR_O2','MeanP_DTR_O2','MedianF_DTR_O2','MeanF_DTR_O2','Spectral Edge_DTR_O2', 'PeakF_DTR_O2','MeanP_DTABR_O2','MedianF_DTABR_O2','MeanF_DTABR_O2','Spectral Edge_DTABR_O2', 'PeakF_DTABR_O2']\n",
    "\n",
    "            csv_writer.writerow(talika)\n",
    "            break\n",
    "        for row in csv_reader:\n",
    "            index=0\n",
    "            talika=[]\n",
    "            for colum in row: \n",
    "                index+=1\n",
    "                talika.append(colum)\n",
    "                if index==26 :\n",
    "                    new_index=index\n",
    "                    check(new_index)\n",
    "                elif index==51:\n",
    "                    new_index=index+15\n",
    "                    check(new_index)\n",
    "                elif index==76:\n",
    "                    new_index=index+30\n",
    "                    check(new_index)\n",
    "                            \n",
    "            csv_writer.writerow(talika)\n",
    "\n",
    "            \n"
   ]
  },
  {
   "cell_type": "code",
   "execution_count": 3,
   "metadata": {},
   "outputs": [
    {
     "name": "stdout",
     "output_type": "stream",
     "text": [
      "['Sleep_Stage', 'MeanP_Alpha_F4', 'MedianF_Alpha_F4', 'MeanF_Alpha_F4', 'Spectral Edge_Alpha_F4', 'PeakF_Alpha_F4', 'MeanP_Beta_F4', 'MedianF_Beta_F4', 'MeanF_Beta_F4', 'Spectral Edge_Beta_F4', 'PeakF_Beta_F4', 'MeanP_Theta_F4', 'MedianF_Theta_F4', 'MeanF_Theta_F4', 'Spectral Edge_Theta_F4', 'PeakF_Theta_F4', 'MeanP_Delta_F4', 'MedianF_Delta_F4', 'MeanF_Delta_F4', 'Spectral Edge_Delta_F4', 'PeakF_Delta_F4', 'MeanP_Gamma_F4', 'MedianF_Gamma_F4', 'MeanF_Gamma_F4', 'Spectral Edge_Gamma_F4', 'PeakF_Gamma_F4', 'MeanP_DAR_F4', 'MedianF_DAR_F4', 'MeanF_DAR_F4', 'Spectral Edge_DAR_F4', 'PeakF_DAR_F4', 'MeanP_DTR_F4', 'MedianF_DTR_F4', 'MeanF_DTR_F4', 'Spectral Edge_DTR_F4', 'PeakF_DTR_F4', 'MeanP_DTABR_F4', 'MedianF_DTABR_F4', 'MeanF_DTABR_F4', 'Spectral Edge_DTABR_F4', 'PeakF_DTABR_F4', 'MeanP_Alpha_C4', 'MedianF_Alpha_C4', 'MeanF_Alpha_C4', 'Spectral Edge_Alpha_C4', 'PeakF_Alpha_C4', 'MeanP_Beta_C4', 'MedianF_Beta_C4', 'MeanF_Beta_C4', 'Spectral Edge_Beta_C4', 'PeakF_Beta_C4', 'MeanP_Theta_C4', 'MedianF_Theta_C4', 'MeanF_Theta_C4', 'Spectral Edge_Theta_C4', 'PeakF_Theta_C4', 'MeanP_Delta_C4', 'MedianF_Delta_C4', 'MeanF_Delta_C4', 'Spectral Edge_Delta_C4', 'PeakF_Delta_C4', 'MeanP_Gamma_C4', 'MedianF_Gamma_C4', 'MeanF_Gamma_C4', 'Spectral Edge_Gamma_C4', 'PeakF_Gamma_C4', 'MeanP_DAR_C4', 'MedianF_DAR_C4', 'MeanF_DAR_C4', 'Spectral Edge_DAR_C4', 'PeakF_DAR_C4', 'MeanP_DTR_C4', 'MedianF_DTR_C4', 'MeanF_DTR_C4', 'Spectral Edge_DTR_C4', 'PeakF_DTR_C4', 'MeanP_DTABR_C4', 'MedianF_DTABR_C4', 'MeanF_DTABR_C4', 'Spectral Edge_DTABR_C4', 'PeakF_DTABR_C4', 'MeanP_Alpha_O2', 'MedianF_Alpha_O2', 'MeanF_Alpha_O2', 'Spectral Edge_Alpha_O2', 'PeakF_Alpha_O2', 'MeanP_Beta_O2', 'MedianF_Beta_O2', 'MeanF_Beta_O2', 'Spectral Edge_Beta_O2', 'PeakF_Beta_O2', 'MeanP_Theta_O2', 'MedianF_Theta_O2', 'MeanF_Theta_O2', 'Spectral Edge_Theta_O2', 'PeakF_Theta_O2', 'MeanP_Delta_O2', 'MedianF_Delta_O2', 'MeanF_Delta_O2', 'Spectral Edge_Delta_O2', 'PeakF_Delta_O2', 'MeanP_Gamma_O2', 'MedianF_Gamma_O2', 'MeanF_Gamma_O2', 'Spectral Edge_Gamma_O2', 'PeakF_Gamma_O2', 'MeanP_DAR_O2', 'MedianF_DAR_O2', 'MeanF_DAR_O2', 'Spectral Edge_DAR_O2', 'PeakF_DAR_O2', 'MeanP_DTR_O2', 'MedianF_DTR_O2', 'MeanF_DTR_O2', 'Spectral Edge_DTR_O2', 'PeakF_DTR_O2', 'MeanP_DTABR_O2', 'MedianF_DTABR_O2', 'MeanF_DTABR_O2', 'Spectral Edge_DTABR_O2', 'PeakF_DTABR_O2']\n"
     ]
    }
   ],
   "source": [
    "import csv\n",
    "\n",
    "with open(\"new.csv\", 'r') as a:\n",
    "    csv_reader=csv.reader(a)\n",
    "    for i in csv_reader:\n",
    "        print(i)\n",
    "        break"
   ]
  },
  {
   "cell_type": "code",
   "execution_count": 4,
   "metadata": {},
   "outputs": [
    {
     "name": "stdout",
     "output_type": "stream",
     "text": [
      "121\n"
     ]
    }
   ],
   "source": [
    "a=['Sleep_Stage', 'MeanP_Alpha_F4', 'MedianF_Alpha_F4', 'MeanF_Alpha_F4', 'Spectral Edge_Alpha_F4', 'PeakF_Alpha_F4', 'MeanP_Beta_F4', 'MedianF_Beta_F4', 'MeanF_Beta_F4', 'Spectral Edge_Beta_F4', 'PeakF_Beta_F4', 'MeanP_Theta_F4', 'MedianF_Theta_F4', 'MeanF_Theta_F4', 'Spectral Edge_Theta_F4', 'PeakF_Theta_F4', 'MeanP_Delta_F4', 'MedianF_Delta_F4', 'MeanF_Delta_F4', 'Spectral Edge_Delta_F4', 'PeakF_Delta_F4', 'MeanP_Gamma_F4', 'MedianF_Gamma_F4', 'MeanF_Gamma_F4', 'Spectral Edge_Gamma_F4', 'PeakF_Gamma_F4', 'MeanP_DAR_F4', 'MedianF_DAR_F4', 'MeanF_DAR_F4', 'Spectral Edge_DAR_F4', 'PeakF_DAR_F4', 'MeanP_DTR_F4', 'MedianF_DTR_F4', 'MeanF_DTR_F4', 'Spectral Edge_DTR_F4', 'PeakF_DTR_F4', 'MeanP_DTABR_F4', 'MedianF_DTABR_F4', 'MeanF_DTABR_F4', 'Spectral Edge_DTABR_F4', 'PeakF_DTABR_F4', 'MeanP_Alpha_C4', 'MedianF_Alpha_C4', 'MeanF_Alpha_C4', 'Spectral Edge_Alpha_C4', 'PeakF_Alpha_C4', 'MeanP_Beta_C4', 'MedianF_Beta_C4', 'MeanF_Beta_C4', 'Spectral Edge_Beta_C4', 'PeakF_Beta_C4', 'MeanP_Theta_C4', 'MedianF_Theta_C4', 'MeanF_Theta_C4', 'Spectral Edge_Theta_C4', 'PeakF_Theta_C4', 'MeanP_Delta_C4', 'MedianF_Delta_C4', 'MeanF_Delta_C4', 'Spectral Edge_Delta_C4', 'PeakF_Delta_C4', 'MeanP_Gamma_C4', 'MedianF_Gamma_C4', 'MeanF_Gamma_C4', 'Spectral Edge_Gamma_C4', 'PeakF_Gamma_C4', 'MeanP_DAR_C4', 'MedianF_DAR_C4', 'MeanF_DAR_C4', 'Spectral Edge_DAR_C4', 'PeakF_DAR_C4', 'MeanP_DTR_C4', 'MedianF_DTR_C4', 'MeanF_DTR_C4', 'Spectral Edge_DTR_C4', 'PeakF_DTR_C4', 'MeanP_DTABR_C4', 'MedianF_DTABR_C4', 'MeanF_DTABR_C4', 'Spectral Edge_DTABR_C4', 'PeakF_DTABR_C4', 'MeanP_Alpha_O2', 'MedianF_Alpha_O2', 'MeanF_Alpha_O2', 'Spectral Edge_Alpha_O2', 'PeakF_Alpha_O2', 'MeanP_Beta_O2', 'MedianF_Beta_O2', 'MeanF_Beta_O2', 'Spectral Edge_Beta_O2', 'PeakF_Beta_O2', 'MeanP_Theta_O2', 'MedianF_Theta_O2', 'MeanF_Theta_O2', 'Spectral Edge_Theta_O2', 'PeakF_Theta_O2', 'MeanP_Delta_O2', 'MedianF_Delta_O2', 'MeanF_Delta_O2', 'Spectral Edge_Delta_O2', 'PeakF_Delta_O2', 'MeanP_Gamma_O2', 'MedianF_Gamma_O2', 'MeanF_Gamma_O2', 'Spectral Edge_Gamma_O2', 'PeakF_Gamma_O2', 'MeanP_DAR_O2', 'MedianF_DAR_O2', 'MeanF_DAR_O2', 'Spectral Edge_DAR_O2', 'PeakF_DAR_O2', 'MeanP_DTR_O2', 'MedianF_DTR_O2', 'MeanF_DTR_O2', 'Spectral Edge_DTR_O2', 'PeakF_DTR_O2', 'MeanP_DTABR_O2', 'MedianF_DTABR_O2', 'MeanF_DTABR_O2', 'Spectral Edge_DTABR_O2', 'PeakF_DTABR_O2']\n",
    "print (len(a))"
   ]
  },
  {
   "cell_type": "code",
   "execution_count": null,
   "metadata": {},
   "outputs": [],
   "source": [
    "a=['W', '0.00051', '8.74146', '18.48195', '17.48293', '8.24195', '0.00071', '19.73073', '29.84585', '33.84195', '15.98439', '0.00121', '4.24585', '10.48976', '7.9922', '2.62244', '0.01071', '1.1239', '4.74537', '2.62244', '1.1239', '0.00024', '36.21463', '43.08293', '50.0761', '49.95122', 21.0, 0.12857, 0.25676, 0.15, 0.13636, 0.02241, 32.22229, 9.07894, 19.09523, 44.44454, 0.05453, 8.62792, 4.09836, 6.45882, '3.87122', '0.00353', '1.1239', '5.49463', '2.74732', '0.62439', '0.00021', '34.7161', '41.58439', '49.95122', '49.95122', '0.00029', '10.98927', '20.72976', '20.48', '10.48976', '0.00059', '21.10439', '29.72098', '34.21659', '21.22927', '0.00039', '4.49561', '13.48683', '10.73951', '2.2478', 0.16714, 18.77782, 5.4091, 12.45453, 34.00002, 0.66102, 0.21302, 0.45378, 0.31387, 0.10588]\n",
    "print(a[])"
   ]
  },
  {
   "cell_type": "code",
   "execution_count": 12,
   "metadata": {},
   "outputs": [
    {
     "data": {
      "text/plain": [
       "45.08928571428571"
      ]
     },
     "execution_count": 12,
     "metadata": {},
     "output_type": "execute_result"
    }
   ],
   "source": [
    "float('5.05E-12')/float('1.12E-13')"
   ]
  }
 ],
 "metadata": {
  "interpreter": {
   "hash": "7f2633a0dd9fad194999ffc17b7b93627efd4bccf6144e14bc5fef7dfd0c6355"
  },
  "kernelspec": {
   "display_name": "Python 3.10.4 64-bit",
   "language": "python",
   "name": "python3"
  },
  "language_info": {
   "codemirror_mode": {
    "name": "ipython",
    "version": 3
   },
   "file_extension": ".py",
   "mimetype": "text/x-python",
   "name": "python",
   "nbconvert_exporter": "python",
   "pygments_lexer": "ipython3",
   "version": "3.10.4"
  },
  "orig_nbformat": 4
 },
 "nbformat": 4,
 "nbformat_minor": 2
}
