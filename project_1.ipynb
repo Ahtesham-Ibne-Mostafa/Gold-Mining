{
  "nbformat": 4,
  "nbformat_minor": 0,
  "metadata": {
    "colab": {
      "name": "project 1.ipynb",
      "provenance": [],
      "collapsed_sections": [],
      "authorship_tag": "ABX9TyMM+fXEConw/aUY6YHmswlW",
      "include_colab_link": true
    },
    "kernelspec": {
      "name": "python3",
      "display_name": "Python 3"
    },
    "language_info": {
      "name": "python"
    }
  },
  "cells": [
    {
      "cell_type": "markdown",
      "metadata": {
        "id": "view-in-github",
        "colab_type": "text"
      },
      "source": [
        "<a href=\"https://colab.research.google.com/github/Ahtesham-Ibne-Mostafa/Gold-Mining/blob/main/project_1.ipynb\" target=\"_parent\"><img src=\"https://colab.research.google.com/assets/colab-badge.svg\" alt=\"Open In Colab\"/></a>"
      ]
    },
    {
      "cell_type": "code",
      "execution_count": 6,
      "metadata": {
        "colab": {
          "base_uri": "https://localhost:8080/",
          "height": 357
        },
        "id": "drCBV3teJDzj",
        "outputId": "0acec1b0-b2d7-4447-e131-334bc0d73dda"
      },
      "outputs": [
        {
          "output_type": "error",
          "ename": "ZeroDivisionError",
          "evalue": "ignored",
          "traceback": [
            "\u001b[0;31m---------------------------------------------------------------------------\u001b[0m",
            "\u001b[0;31mZeroDivisionError\u001b[0m                         Traceback (most recent call last)",
            "\u001b[0;32m<ipython-input-6-12ef748321af>\u001b[0m in \u001b[0;36m<module>\u001b[0;34m()\u001b[0m\n\u001b[1;32m     40\u001b[0m                 \u001b[0mtalika\u001b[0m\u001b[0;34m.\u001b[0m\u001b[0mappend\u001b[0m\u001b[0;34m(\u001b[0m\u001b[0mcolum\u001b[0m\u001b[0;34m)\u001b[0m\u001b[0;34m\u001b[0m\u001b[0;34m\u001b[0m\u001b[0m\n\u001b[1;32m     41\u001b[0m                 \u001b[0;32mif\u001b[0m \u001b[0mindex\u001b[0m\u001b[0;34m==\u001b[0m\u001b[0;36m26\u001b[0m \u001b[0;34m:\u001b[0m\u001b[0;34m\u001b[0m\u001b[0;34m\u001b[0m\u001b[0m\n\u001b[0;32m---> 42\u001b[0;31m                     \u001b[0mcheck\u001b[0m\u001b[0;34m(\u001b[0m\u001b[0mindex\u001b[0m\u001b[0;34m)\u001b[0m\u001b[0;34m\u001b[0m\u001b[0;34m\u001b[0m\u001b[0m\n\u001b[0m\u001b[1;32m     43\u001b[0m                 \u001b[0;32melif\u001b[0m \u001b[0mindex\u001b[0m\u001b[0;34m==\u001b[0m\u001b[0;36m51\u001b[0m\u001b[0;34m:\u001b[0m\u001b[0;34m\u001b[0m\u001b[0;34m\u001b[0m\u001b[0m\n\u001b[1;32m     44\u001b[0m                     \u001b[0mcheck\u001b[0m\u001b[0;34m(\u001b[0m\u001b[0mindex\u001b[0m\u001b[0;34m)\u001b[0m\u001b[0;34m\u001b[0m\u001b[0;34m\u001b[0m\u001b[0m\n",
            "\u001b[0;32m<ipython-input-6-12ef748321af>\u001b[0m in \u001b[0;36mcheck\u001b[0;34m(index)\u001b[0m\n\u001b[1;32m      4\u001b[0m     \u001b[0;32mfor\u001b[0m \u001b[0mi\u001b[0m \u001b[0;32min\u001b[0m \u001b[0mrange\u001b[0m\u001b[0;34m(\u001b[0m\u001b[0mindex\u001b[0m\u001b[0;34m,\u001b[0m\u001b[0mindex\u001b[0m\u001b[0;34m+\u001b[0m\u001b[0;36m15\u001b[0m\u001b[0;34m)\u001b[0m\u001b[0;34m:\u001b[0m\u001b[0;34m\u001b[0m\u001b[0;34m\u001b[0m\u001b[0m\n\u001b[1;32m      5\u001b[0m         \u001b[0;32mif\u001b[0m \u001b[0mindex\u001b[0m\u001b[0;34m<=\u001b[0m\u001b[0mi\u001b[0m\u001b[0;34m<=\u001b[0m\u001b[0mindex\u001b[0m\u001b[0;34m+\u001b[0m\u001b[0;36m4\u001b[0m \u001b[0;34m:\u001b[0m\u001b[0;34m\u001b[0m\u001b[0;34m\u001b[0m\u001b[0m\n\u001b[0;32m----> 6\u001b[0;31m             \u001b[0mx\u001b[0m\u001b[0;34m=\u001b[0m\u001b[0mround\u001b[0m\u001b[0;34m(\u001b[0m\u001b[0;34m(\u001b[0m\u001b[0mfloat\u001b[0m\u001b[0;34m(\u001b[0m\u001b[0mrow\u001b[0m\u001b[0;34m[\u001b[0m\u001b[0mi\u001b[0m\u001b[0;34m-\u001b[0m\u001b[0;36m10\u001b[0m\u001b[0;34m]\u001b[0m\u001b[0;34m)\u001b[0m\u001b[0;34m/\u001b[0m\u001b[0mfloat\u001b[0m\u001b[0;34m(\u001b[0m\u001b[0mrow\u001b[0m\u001b[0;34m[\u001b[0m\u001b[0mi\u001b[0m\u001b[0;34m-\u001b[0m\u001b[0;36m25\u001b[0m\u001b[0;34m]\u001b[0m\u001b[0;34m)\u001b[0m\u001b[0;34m)\u001b[0m\u001b[0;34m,\u001b[0m\u001b[0;36m5\u001b[0m\u001b[0;34m)\u001b[0m\u001b[0;34m\u001b[0m\u001b[0;34m\u001b[0m\u001b[0m\n\u001b[0m\u001b[1;32m      7\u001b[0m             \u001b[0mtalika\u001b[0m\u001b[0;34m.\u001b[0m\u001b[0mappend\u001b[0m\u001b[0;34m(\u001b[0m\u001b[0mx\u001b[0m\u001b[0;34m)\u001b[0m\u001b[0;34m\u001b[0m\u001b[0;34m\u001b[0m\u001b[0m\n\u001b[1;32m      8\u001b[0m         \u001b[0;32melif\u001b[0m \u001b[0mindex\u001b[0m\u001b[0;34m+\u001b[0m\u001b[0;36m5\u001b[0m\u001b[0;34m<=\u001b[0m\u001b[0mi\u001b[0m\u001b[0;34m<=\u001b[0m\u001b[0mindex\u001b[0m\u001b[0;34m+\u001b[0m\u001b[0;36m9\u001b[0m\u001b[0;34m:\u001b[0m\u001b[0;34m\u001b[0m\u001b[0;34m\u001b[0m\u001b[0m\n",
            "\u001b[0;31mZeroDivisionError\u001b[0m: float division by zero"
          ]
        }
      ],
      "source": [
        "import csv\n",
        "\n",
        "def check(index):\n",
        "    for i in range(index,index+15):                       \n",
        "        if index<=i<=index+4 :\n",
        "            x=round((float(row[i-10])/float(row[i-25])),5)\n",
        "            talika.append(x)\n",
        "        elif index+5<=i<=index+9:\n",
        "            x=round((float(row[i-15])/float(row[i-20])),5)\n",
        "            talika.append(x)\n",
        "        elif index+10<=i<=index+14:\n",
        "            x=round(((float(row[i-20])+float(row[i-25]))/(float(row[i-35])+float(row[i-30]))),5)\n",
        "            talika.append(str(x))\n",
        "\n",
        "with open(\"/content/EEG_HMC_underscore.csv\", 'r') as a:\n",
        "    csv_reader=csv.reader(a)\n",
        "    \n",
        "    with open(\"new.csv\", 'w', newline='') as new_file:\n",
        "        csv_writer=csv.writer(new_file)\n",
        "        for row in csv_reader:\n",
        "            talika=[]\n",
        "            index=0\n",
        "            for colum in row:\n",
        "                index+=1\n",
        "                talika.append(colum)\n",
        "                if index==26:\n",
        "                    talika+=['MeanP_DAR_F4','MedianF_DAR_F4','MeanF_DAR_F4','Spectral Edge_DAR_F4', 'PeakF_DAR_F4','MeanP_DTR_F4','MedianF_DTR_F4','MeanF_DTR_F4','Spectral Edge_DTR_F4', 'PeakF_DTR_F4','MeanP_DTABR_F4','MedianF_DTABR_F4','MeanF_DTABR_F4','Spectral Edge_DTABR_F4', 'PeakF_DTABR_F4']\n",
        "                elif index==51:\n",
        "                    talika+=['MeanP_DAR_C4','MedianF_DAR_C4','MeanF_DAR_C4','Spectral Edge_DAR_C4', 'PeakF_DAR_C4','MeanP_DTR_C4','MedianF_DTR_C4','MeanF_DTR_C4','Spectral Edge_DTR_C4', 'PeakF_DTR_C4','MeanP_DTABR_C4','MedianF_DTABR_C4','MeanF_DTABR_C4','Spectral Edge_DTABR_C4', 'PeakF_DTABR_C4']\n",
        "                elif index==76:\n",
        "                    talika+=['MeanP_DAR_O2','MedianF_DAR_O2','MeanF_DAR_O2','Spectral Edge_DAR_O2', 'PeakF_DAR_O2','MeanP_DTR_O2','MedianF_DTR_O2','MeanF_DTR_O2','Spectral Edge_DTR_O2', 'PeakF_DTR_O2','MeanP_DTABR_O2','MedianF_DTABR_O2','MeanF_DTABR_O2','Spectral Edge_DTABR_O2', 'PeakF_DTABR_O2']\n",
        "\n",
        "            csv_writer.writerow(talika)\n",
        "            break\n",
        "        for row in csv_reader:\n",
        "            index=0\n",
        "            talika=[]\n",
        "            for colum in row: \n",
        "                index+=1\n",
        "                talika.append(colum)\n",
        "                if index==26 :\n",
        "                    check(index)\n",
        "                elif index==51:\n",
        "                    check(index)\n",
        "                elif index==76:\n",
        "                    check(index)\n",
        "                            \n",
        "            csv_writer.writerow(talika)\n",
        "\n",
        "\n"
      ]
    },
    {
      "cell_type": "code",
      "source": [
        ""
      ],
      "metadata": {
        "id": "Gs-kc4dK7Bdf"
      },
      "execution_count": null,
      "outputs": []
    }
  ]
}